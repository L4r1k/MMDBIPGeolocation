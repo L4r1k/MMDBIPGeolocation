{
 "cells": [
  {
   "cell_type": "markdown",
   "metadata": {},
   "source": [
    "# Import libraries "
   ]
  },
  {
   "cell_type": "code",
   "execution_count": null,
   "metadata": {},
   "outputs": [],
   "source": [
    "import geoip2.database\n",
    "import ipaddress\n",
    "import pandas as pd\n",
    "import logging\n",
    "from pathlib import Path"
   ]
  },
  {
   "cell_type": "code",
   "execution_count": null,
   "metadata": {},
   "outputs": [],
   "source": [
    "pd.set_option('display.max_rows', 500)\n",
    "pd.set_option('display.max_columns', 500)\n",
    "pd.set_option('display.width', -1)\n",
    "pd.set_option('display.expand_frame_repr', False)\n",
    "pd.set_option('max_colwidth', -1)\n",
    "\n",
    "logging.basicConfig(\n",
    "    level = logging.DEBUG,\n",
    "    format = '%(asctime)s - %(levelname)s - %(message)s',\n",
    "    handlers = [logging.StreamHandler()])"
   ]
  },
  {
   "cell_type": "markdown",
   "metadata": {},
   "source": [
    "# Configuration"
   ]
  },
  {
   "cell_type": "code",
   "execution_count": null,
   "metadata": {},
   "outputs": [],
   "source": [
    "# ../GeoLite2-City.mmdb\n",
    "city_db_path = Path('') \n",
    "\n",
    "# ../GeoLite2-ASN.mmdb\n",
    "asn_db_path = Path('')\n",
    "\n",
    "# File with single IP per line\n",
    "path_to_ips = Path('')\n",
    "\n",
    "# File to output results to ('Results.xlsx')\n",
    "path_to_results = Path('')"
   ]
  },
  {
   "cell_type": "markdown",
   "metadata": {},
   "source": [
    "# Associate IPs with City Information and reformat into Dataframe"
   ]
  },
  {
   "cell_type": "code",
   "execution_count": null,
   "metadata": {},
   "outputs": [],
   "source": [
    "ips = []\n",
    "internal_ips = []\n",
    "unparseable_ips = []\n",
    "line_count = 0\n",
    "\n",
    "reader = geoip2.database.Reader(city_db_path)\n",
    "with open(path_to_ips) as f:\n",
    "    for line in f:\n",
    "        line_count += 1\n",
    "        try:\n",
    "            if not ipaddress.ip_address(line.strip()).is_private:\n",
    "                ips.append(reader.city(line.strip()))\n",
    "            else:\n",
    "                internal_ips.append(line.strip())\n",
    "        except Exception as e:\n",
    "            logging.info(f\"Could not process {line.strip()}: {e}\")\n",
    "            unparseable_ips.append(line.strip())"
   ]
  },
  {
   "cell_type": "code",
   "execution_count": null,
   "metadata": {},
   "outputs": [],
   "source": [
    "print(f\"Parsed a total of {line_count - len(internal_ips)} from {line_count} provided ips.\")\n",
    "\n",
    "if internal_ips:\n",
    "    print(f\"Printing {len(internal_ips)} private ips left unparsed:\")\n",
    "    for ip in internal_ips:\n",
    "        print(ip)\n",
    "    \n",
    "if unparseable_ips:\n",
    "    print(f\"Printing {len(unparseable_ips)} unparseable ips:\")\n",
    "    for ip in unparseable_ips:\n",
    "        print(ip)"
   ]
  },
  {
   "cell_type": "code",
   "execution_count": null,
   "metadata": {},
   "outputs": [],
   "source": [
    "parsed_ips = []\n",
    "for ip in ips:\n",
    "    parsed_ips.append(f\"{ip.traits.ip_address}\\t{ip.country.name}\\t{ip.city.name}\")\n",
    "    \n",
    "df = pd.DataFrame([sub.split(\"\\t\") for sub in parsed_ips], columns=['ip_address', 'country', 'city'])"
   ]
  },
  {
   "cell_type": "markdown",
   "metadata": {},
   "source": [
    "# Associate IPs with ASN Information, reformat into Dataframe"
   ]
  },
  {
   "cell_type": "code",
   "execution_count": null,
   "metadata": {},
   "outputs": [],
   "source": [
    "asns = []\n",
    "internal_ips = []\n",
    "unparseable_ips = []\n",
    "line_count = 0\n",
    "\n",
    "reader2 = geoip2.database.Reader(asn_db_path)\n",
    "with open(path_to_ips) as f:\n",
    "    for line in f:\n",
    "        line_count += 1\n",
    "        try:\n",
    "            if not ipaddress.ip_address(line.strip()).is_private:\n",
    "                asns.append(reader2.asn(line.strip()))\n",
    "            else:\n",
    "                internal_ips.append(line.strip())\n",
    "        except Exception as e:\n",
    "            logging.info(f\"Could not process {line.strip()}: {e}\")\n",
    "            unparseable_ips.append(line.strip())"
   ]
  },
  {
   "cell_type": "code",
   "execution_count": null,
   "metadata": {},
   "outputs": [],
   "source": [
    "print(f\"Parsed a total of {line_count - len(internal_ips)} from {line_count} provided ips.\")\n",
    "\n",
    "if internal_ips:\n",
    "    print(f\"Printing {len(internal_ips)} private ips left unparsed:\")\n",
    "    for ip in internal_ips:\n",
    "        print(ip)\n",
    "    \n",
    "if unparseable_ips:\n",
    "    print(f\"Printing {len(unparseable_ips)} unparseable ips:\")\n",
    "    for ip in unparseable_ips:\n",
    "        print(ip)"
   ]
  },
  {
   "cell_type": "code",
   "execution_count": null,
   "metadata": {},
   "outputs": [],
   "source": [
    "parsed_asns = []\n",
    "for ip in asns:\n",
    "    parsed_asns.append(f\"{ip.ip_address}\\t{ip.autonomous_system_number}\\t{ip.autonomous_system_organization}\")\n",
    "    \n",
    "df2 = pd.DataFrame([sub.split(\"\\t\") for sub in parsed_asns], columns=['ip_address', 'asn_system_number', 'asn_org'])"
   ]
  },
  {
   "cell_type": "markdown",
   "metadata": {},
   "source": [
    "# Merge Dataframes"
   ]
  },
  {
   "cell_type": "code",
   "execution_count": null,
   "metadata": {},
   "outputs": [],
   "source": [
    "df3 = pd.merge(df, df2, on='ip_address', how='outer')"
   ]
  },
  {
   "cell_type": "markdown",
   "metadata": {},
   "source": [
    "# Analysis "
   ]
  },
  {
   "cell_type": "code",
   "execution_count": null,
   "metadata": {
    "scrolled": true
   },
   "outputs": [],
   "source": [
    "countryAsnGroupby = df3.groupby(['country', 'asn_org'])['ip_address'].count().reset_index().sort_values(by='ip_address', ascending=False)"
   ]
  },
  {
   "cell_type": "code",
   "execution_count": null,
   "metadata": {},
   "outputs": [],
   "source": [
    "countryGroupby = df3.groupby(['country'])['ip_address'].count().reset_index().sort_values(by='ip_address', ascending=False)"
   ]
  },
  {
   "cell_type": "markdown",
   "metadata": {},
   "source": [
    "# Write Results to Excel "
   ]
  },
  {
   "cell_type": "code",
   "execution_count": null,
   "metadata": {},
   "outputs": [],
   "source": [
    "writer = pd.ExcelWriter(path_to_results, engine='openpyxl')\n",
    "df3.to_excel(writer, sheet_name='GeolocatedIPs', index=False)\n",
    "countryAsnGroupby.to_excel(writer, sheet_name='CountryASNGroupby', index=False)\n",
    "countryGroupby.to_excel(writer, sheet_name='CountryGroupby', index=False)\n",
    "writer.save()"
   ]
  }
 ],
 "metadata": {
  "kernelspec": {
   "display_name": "Python 3",
   "language": "python",
   "name": "python3"
  },
  "language_info": {
   "codemirror_mode": {
    "name": "ipython",
    "version": 3
   },
   "file_extension": ".py",
   "mimetype": "text/x-python",
   "name": "python",
   "nbconvert_exporter": "python",
   "pygments_lexer": "ipython3",
   "version": "3.6.5"
  }
 },
 "nbformat": 4,
 "nbformat_minor": 2
}
